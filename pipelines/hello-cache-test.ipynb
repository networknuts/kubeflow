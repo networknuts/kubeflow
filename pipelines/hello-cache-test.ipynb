{
 "cells": [
  {
   "cell_type": "code",
   "execution_count": 3,
   "id": "e46162c0-fd85-4aeb-a5ba-164c8ef50d5d",
   "metadata": {},
   "outputs": [],
   "source": [
    "from kfp.v2.dsl import component, pipeline\n",
    "import time\n",
    "\n",
    "@component(base_image=\"python:3.9-slim\")\n",
    "def slow_op(username: str):\n",
    "    import time\n",
    "    print(f\"Hello {username}, starting slow step…\")\n",
    "    time.sleep(30)\n",
    "    print(\"Done sleeping!\")\n",
    "\n",
    "@pipeline(name=\"cache-test-pipeline\")\n",
    "def cache_test_pipeline(username: str):\n",
    "    # Explicitly leave caching enabled\n",
    "    _ = slow_op(username=username)\n",
    "\n",
    "if __name__ == \"__main__\":\n",
    "    from kfp.v2 import compiler\n",
    "    compiler.Compiler().compile(\n",
    "        pipeline_func=cache_test_pipeline,\n",
    "        package_path=\"cache_test_pipeline.yaml\"\n",
    "    )"
   ]
  },
  {
   "cell_type": "code",
   "execution_count": null,
   "id": "cda5df8c-ea6f-47d7-b197-1f8865a67487",
   "metadata": {},
   "outputs": [],
   "source": []
  }
 ],
 "metadata": {
  "kernelspec": {
   "display_name": "Python 3 (ipykernel)",
   "language": "python",
   "name": "python3"
  },
  "language_info": {
   "codemirror_mode": {
    "name": "ipython",
    "version": 3
   },
   "file_extension": ".py",
   "mimetype": "text/x-python",
   "name": "python",
   "nbconvert_exporter": "python",
   "pygments_lexer": "ipython3",
   "version": "3.11.11"
  }
 },
 "nbformat": 4,
 "nbformat_minor": 5
}
