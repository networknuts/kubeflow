{
 "cells": [
  {
   "cell_type": "code",
   "execution_count": 1,
   "id": "2ddaa0f1-99f8-4139-a434-270d3c8b5cfe",
   "metadata": {},
   "outputs": [
    {
     "name": "stderr",
     "output_type": "stream",
     "text": [
      "/tmp/ipykernel_560/4111246354.py:1: DeprecationWarning: The module `kfp.v2` is deprecated and will be removed in a futureversion. Please import directly from the `kfp` namespace, instead of `kfp.v2`.\n",
      "  from kfp.v2.dsl import component, pipeline\n"
     ]
    }
   ],
   "source": [
    "from kfp.v2.dsl import component, pipeline"
   ]
  },
  {
   "cell_type": "code",
   "execution_count": 2,
   "id": "dcec46a6-cc2d-4f49-94da-131d1514e67d",
   "metadata": {},
   "outputs": [],
   "source": [
    "@component(\n",
    "    base_image=\"python:3.9-slim\",  # e.g. use your own build: myregistry/preprocess:latest\n",
    "    packages_to_install=[]         # optional: list pip packages if you need them\n",
    ")\n",
    "def preprocess_op():\n",
    "    \"\"\"Preprocessing step: just prints hello world.\"\"\"\n",
    "    print(\"hello world\")"
   ]
  },
  {
   "cell_type": "code",
   "execution_count": 3,
   "id": "802badd2-5470-4d2f-975a-e3a815d85b93",
   "metadata": {},
   "outputs": [],
   "source": [
    "@component(\n",
    "    base_image=\"python:3.9-slim\",  # e.g. myregistry/train:latest\n",
    ")\n",
    "def train_op():\n",
    "    \"\"\"Training step: just prints hello world.\"\"\"\n",
    "    print(\"hello world\")"
   ]
  },
  {
   "cell_type": "code",
   "execution_count": 4,
   "id": "32caae31-575f-45cd-83a9-f58035c358a1",
   "metadata": {},
   "outputs": [],
   "source": [
    "@component(\n",
    "    base_image=\"python:3.9-slim\",  # e.g. myregistry/eval:latest\n",
    ")\n",
    "def eval_op():\n",
    "    \"\"\"Evaluation step: just prints hello world.\"\"\"\n",
    "    print(\"hello world\")\n"
   ]
  },
  {
   "cell_type": "code",
   "execution_count": 5,
   "id": "169e4c8b-dbca-4cf7-a440-c9aa81ad449a",
   "metadata": {},
   "outputs": [],
   "source": [
    "@pipeline(\n",
    "    name=\"hello-world-3-step-pipeline-with-images\",\n",
    "    description=\"A simple 3-step pipeline where each step runs in its own container image\"\n",
    ")\n",
    "def hello_world_pipeline():\n",
    "    preprocess = preprocess_op()\n",
    "    train      = train_op().after(preprocess)\n",
    "    eval_      = eval_op().after(train)"
   ]
  },
  {
   "cell_type": "code",
   "execution_count": 6,
   "id": "cf2ae822-555b-4f5c-92c3-504ee8d8cfa5",
   "metadata": {},
   "outputs": [],
   "source": [
    "if __name__ == \"__main__\":\n",
    "    from kfp.v2 import compiler\n",
    "    compiler.Compiler().compile(\n",
    "        pipeline_func=hello_world_pipeline,\n",
    "        package_path=\"hello_world_pipeline_with_images.yaml\"\n",
    "    )"
   ]
  },
  {
   "cell_type": "code",
   "execution_count": null,
   "id": "2b1b45c0-fccd-4a11-9abd-2322eda291a2",
   "metadata": {},
   "outputs": [],
   "source": []
  }
 ],
 "metadata": {
  "kernelspec": {
   "display_name": "Python 3 (ipykernel)",
   "language": "python",
   "name": "python3"
  },
  "language_info": {
   "codemirror_mode": {
    "name": "ipython",
    "version": 3
   },
   "file_extension": ".py",
   "mimetype": "text/x-python",
   "name": "python",
   "nbconvert_exporter": "python",
   "pygments_lexer": "ipython3",
   "version": "3.11.11"
  }
 },
 "nbformat": 4,
 "nbformat_minor": 5
}
