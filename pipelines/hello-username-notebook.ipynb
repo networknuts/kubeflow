{
 "cells": [
  {
   "cell_type": "code",
   "execution_count": 1,
   "id": "8432ed94-ec7d-4f4c-9de8-ced947ffdc06",
   "metadata": {},
   "outputs": [
    {
     "name": "stderr",
     "output_type": "stream",
     "text": [
      "/tmp/ipykernel_178/2498193318.py:1: DeprecationWarning: The module `kfp.v2` is deprecated and will be removed in a futureversion. Please import directly from the `kfp` namespace, instead of `kfp.v2`.\n",
      "  from kfp.v2.dsl import component, pipeline\n"
     ]
    }
   ],
   "source": [
    "from kfp.v2.dsl import component, pipeline\n",
    "import argparse\n"
   ]
  },
  {
   "cell_type": "code",
   "execution_count": 2,
   "id": "255a7f9e-8ef0-47e9-b205-d719d9913ef7",
   "metadata": {},
   "outputs": [],
   "source": [
    "COMMON_IMAGE = \"python:3.9-slim\""
   ]
  },
  {
   "cell_type": "code",
   "execution_count": 3,
   "id": "a2239752-fb56-4952-b81b-8972b5e4bdf4",
   "metadata": {},
   "outputs": [],
   "source": [
    "@component(base_image=COMMON_IMAGE)\n",
    "def greet_op(username: str):\n",
    "    \"\"\"Greet the user by name.\"\"\"\n",
    "    print(f\"hello {username}\")"
   ]
  },
  {
   "cell_type": "code",
   "execution_count": 4,
   "id": "4073b8ed-e374-4859-a90b-8be996e90c14",
   "metadata": {},
   "outputs": [],
   "source": [
    "@pipeline(\n",
    "    name=\"hello-username-pipeline\",\n",
    "    description=\"A pipeline that says hello to the given username\"\n",
    ")\n",
    "def hello_username_pipeline(username: str):\n",
    "    # pass the pipeline parameter down into the component\n",
    "    _ = greet_op(username=username)"
   ]
  },
  {
   "cell_type": "code",
   "execution_count": 5,
   "id": "82d952da-431e-4ca6-ba42-b0e093db6380",
   "metadata": {},
   "outputs": [
    {
     "name": "stderr",
     "output_type": "stream",
     "text": [
      "usage: ipykernel_launcher.py [-h] --username USERNAME [--output OUTPUT]\n",
      "                             [--submit]\n",
      "ipykernel_launcher.py: error: the following arguments are required: --username\n"
     ]
    },
    {
     "ename": "SystemExit",
     "evalue": "2",
     "output_type": "error",
     "traceback": [
      "An exception has occurred, use %tb to see the full traceback.\n",
      "\u001b[0;31mSystemExit\u001b[0m\u001b[0;31m:\u001b[0m 2\n"
     ]
    },
    {
     "name": "stderr",
     "output_type": "stream",
     "text": [
      "/opt/conda/lib/python3.11/site-packages/IPython/core/interactiveshell.py:3587: UserWarning: To exit: use 'exit', 'quit', or Ctrl-D.\n",
      "  warn(\"To exit: use 'exit', 'quit', or Ctrl-D.\", stacklevel=1)\n"
     ]
    }
   ],
   "source": [
    "if __name__ == \"__main__\":\n",
    "    parser = argparse.ArgumentParser(\n",
    "        description=\"Compile (and optionally submit) the hello-username pipeline\"\n",
    "    )\n",
    "    parser.add_argument(\n",
    "        \"--username\",\n",
    "        type=str,\n",
    "        required=True,\n",
    "        help=\"The name to say hello to\"\n",
    "    )\n",
    "    parser.add_argument(\n",
    "        \"--output\",\n",
    "        type=str,\n",
    "        default=\"hello_username_pipeline.yaml\",\n",
    "        help=\"Path to write the compiled pipeline spec\"\n",
    "    )\n",
    "    parser.add_argument(\n",
    "        \"--submit\",\n",
    "        action=\"store_true\",\n",
    "        help=\"If set, immediately submit a run to Kubeflow (requires KFP endpoint configured)\"\n",
    "    )\n",
    "    args = parser.parse_args()\n"
   ]
  },
  {
   "cell_type": "code",
   "execution_count": 9,
   "id": "4cd5e23d-4f31-495d-b8d4-fe5f8a62f86c",
   "metadata": {},
   "outputs": [
    {
     "name": "stdout",
     "output_type": "stream",
     "text": [
      "✅ Compiled pipeline to hello_username_pipeline.yaml\n"
     ]
    }
   ],
   "source": [
    "from kfp.v2 import compiler\n",
    "\n",
    "# Set a default username to use\n",
    "username = \"Batman\"\n",
    "\n",
    "# Compile the pipeline YAML\n",
    "compiler.Compiler().compile(\n",
    "    pipeline_func=hello_username_pipeline,\n",
    "    package_path=\"hello_username_pipeline.yaml\"\n",
    ")\n",
    "print(\"✅ Compiled pipeline to hello_username_pipeline.yaml\")\n"
   ]
  },
  {
   "cell_type": "code",
   "execution_count": null,
   "id": "40920b08-7475-42da-a4f0-4eb341a912ae",
   "metadata": {},
   "outputs": [],
   "source": []
  }
 ],
 "metadata": {
  "kernelspec": {
   "display_name": "Python 3 (ipykernel)",
   "language": "python",
   "name": "python3"
  },
  "language_info": {
   "codemirror_mode": {
    "name": "ipython",
    "version": 3
   },
   "file_extension": ".py",
   "mimetype": "text/x-python",
   "name": "python",
   "nbconvert_exporter": "python",
   "pygments_lexer": "ipython3",
   "version": "3.11.11"
  }
 },
 "nbformat": 4,
 "nbformat_minor": 5
}
