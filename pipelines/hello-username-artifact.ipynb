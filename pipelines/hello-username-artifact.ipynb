{
 "cells": [
  {
   "cell_type": "code",
   "execution_count": 1,
   "id": "79ddcb71-4528-4666-8dff-5af277f3ba3b",
   "metadata": {},
   "outputs": [
    {
     "name": "stderr",
     "output_type": "stream",
     "text": [
      "/tmp/ipykernel_320/3194792253.py:1: DeprecationWarning: The module `kfp.v2` is deprecated and will be removed in a futureversion. Please import directly from the `kfp` namespace, instead of `kfp.v2`.\n",
      "  from kfp.v2.dsl import component\n"
     ]
    }
   ],
   "source": [
    "from kfp.v2.dsl import component\n",
    "\n",
    "@component(\n",
    "    base_image=\"python:3.9-slim\",\n",
    "    packages_to_install=[\"minio\", \"kubernetes\"]\n",
    ")\n",
    "def create_and_upload_op(username: str):\n",
    "    import os\n",
    "    from minio import Minio\n",
    "    from pathlib import Path\n",
    "    from kubernetes import client, config\n",
    "    import base64\n",
    "\n",
    "    # 1. Load in-cluster config using mounted ServiceAccount credentials\n",
    "    config.load_incluster_config()\n",
    "\n",
    "    # 2. Get namespace (from serviceaccount token mount)\n",
    "    with open(\"/var/run/secrets/kubernetes.io/serviceaccount/namespace\", \"r\") as f:\n",
    "        namespace = f.read().strip()\n",
    "\n",
    "    # 3. Use Kubernetes API to get the secret\n",
    "    secret_name = \"minio-secret\"\n",
    "    v1 = client.CoreV1Api()\n",
    "    secret = v1.read_namespaced_secret(secret_name, namespace)\n",
    "\n",
    "    # 4. Decode the base64-encoded secret values\n",
    "    access_key = base64.b64decode(secret.data[\"MINIO_ACCESS_KEY\"]).decode()\n",
    "    secret_key = base64.b64decode(secret.data[\"MINIO_SECRET_KEY\"]).decode()\n",
    "    endpoint = os.getenv(\"MINIO_ENDPOINT\", \"minio-service.kubeflow:9000\")\n",
    "\n",
    "    # 5. Write a test file\n",
    "    local_file = \"/tmp/hello.txt\"\n",
    "    Path(local_file).write_text(f\"hello {username}\")\n",
    "\n",
    "    # 6. Upload to MinIO\n",
    "    minio_client = Minio(\n",
    "        endpoint,\n",
    "        access_key=access_key,\n",
    "        secret_key=secret_key,\n",
    "        secure=False\n",
    "    )\n",
    "\n",
    "    bucket = \"pipeline-artifacts\"\n",
    "    if not minio_client.bucket_exists(bucket):\n",
    "        minio_client.make_bucket(bucket)\n",
    "\n",
    "    minio_client.fput_object(bucket, \"hello.txt\", local_file)\n",
    "    print(f\"✅ Uploaded hello.txt to {bucket}/hello.txt on {endpoint}\")\n"
   ]
  },
  {
   "cell_type": "code",
   "execution_count": 2,
   "id": "e78a0b74-b937-46de-bc45-3c74a91bc5e5",
   "metadata": {},
   "outputs": [],
   "source": [
    "from kfp.v2.dsl import pipeline\n",
    "\n",
    "@pipeline(name=\"minio-sa-secret-pipeline\")\n",
    "def artifact_pipeline(username: str):\n",
    "    create_and_upload_op(username=username)\n"
   ]
  },
  {
   "cell_type": "code",
   "execution_count": 3,
   "id": "e56a72ed-f3cb-46c0-a912-d34b95cad444",
   "metadata": {},
   "outputs": [],
   "source": [
    "from kfp.v2 import compiler\n",
    "\n",
    "compiler.Compiler().compile(\n",
    "    pipeline_func=artifact_pipeline,\n",
    "    package_path=\"minio_pipeline_sa_secret.yaml\"\n",
    ")\n"
   ]
  },
  {
   "cell_type": "code",
   "execution_count": null,
   "id": "719bfec3-1eb2-4f6a-8195-92f35dffa28d",
   "metadata": {},
   "outputs": [],
   "source": []
  }
 ],
 "metadata": {
  "kernelspec": {
   "display_name": "Python 3 (ipykernel)",
   "language": "python",
   "name": "python3"
  },
  "language_info": {
   "codemirror_mode": {
    "name": "ipython",
    "version": 3
   },
   "file_extension": ".py",
   "mimetype": "text/x-python",
   "name": "python",
   "nbconvert_exporter": "python",
   "pygments_lexer": "ipython3",
   "version": "3.11.11"
  }
 },
 "nbformat": 4,
 "nbformat_minor": 5
}
