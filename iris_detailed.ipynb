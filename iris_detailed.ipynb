{
 "cells": [
  {
   "cell_type": "markdown",
   "id": "9e81aa52",
   "metadata": {},
   "source": [
    "### 📥 Step 1: Load and Split the Iris Dataset\n",
    "We use scikit-learn's `load_iris()` to get a small, well-known dataset of flower measurements. We then split it into training and testing parts."
   ]
  },
  {
   "cell_type": "code",
   "execution_count": 1,
   "id": "66c5ee5c-fc37-4ab6-ae2a-a186aae144e7",
   "metadata": {},
   "outputs": [],
   "source": [
    "import kfp\n",
    "from kfp import dsl\n",
    "import pickle\n",
    "import os\n",
    "from sklearn.datasets import load_iris\n",
    "from sklearn.ensemble import RandomForestClassifier\n",
    "from sklearn.model_selection import train_test_split\n",
    "from sklearn.metrics import accuracy_score\n"
   ]
  },
  {
   "cell_type": "markdown",
   "id": "6d783910",
   "metadata": {},
   "source": [
    "### 📥 Step 1: Load and Split the Iris Dataset\n",
    "We use scikit-learn's `load_iris()` to get a small, well-known dataset of flower measurements. We then split it into training and testing parts."
   ]
  },
  {
   "cell_type": "code",
   "execution_count": 2,
   "id": "7bf84c7e-46b9-44b6-85de-91f9f3da52e2",
   "metadata": {},
   "outputs": [],
   "source": [
    "@dsl.component(base_image=\"quay.io/jupyter/scipy-notebook:lab-4.4.3\")\n",
    "def preprocess_op(train_path: dsl.Output[dsl.Artifact],\n",
    "                  test_path: dsl.Output[dsl.Artifact]):\n",
    "    from sklearn.datasets import load_iris\n",
    "    from sklearn.model_selection import train_test_split\n",
    "    import pickle\n",
    "\n",
    "    X, y = load_iris(return_X_y=True)\n",
    "    X_train, X_test, y_train, y_test = train_test_split(X, y, test_size=0.2)\n",
    "\n",
    "    with open(train_path.path, 'wb') as f:\n",
    "        pickle.dump((X_train, y_train), f)\n",
    "    with open(test_path.path, 'wb') as f:\n",
    "        pickle.dump((X_test, y_test), f)\n"
   ]
  },
  {
   "cell_type": "markdown",
   "id": "17b58385",
   "metadata": {},
   "source": [
    "### 🌲 Step 2: Train the Model\n",
    "We use a Random Forest Classifier, which builds multiple decision trees and combines their results for better accuracy."
   ]
  },
  {
   "cell_type": "code",
   "execution_count": 3,
   "id": "6531b872-c12d-444e-96ba-8669295ebb7f",
   "metadata": {},
   "outputs": [],
   "source": [
    "@dsl.component(base_image=\"quay.io/jupyter/scipy-notebook:lab-4.4.3\")\n",
    "def train_op(train_data: dsl.Input[dsl.Artifact],\n",
    "             model_output: dsl.Output[dsl.Model]):\n",
    "    import pickle\n",
    "    from sklearn.ensemble import RandomForestClassifier\n",
    "\n",
    "    with open(train_data.path, 'rb') as f:\n",
    "        X_train, y_train = pickle.load(f)\n",
    "\n",
    "    clf = RandomForestClassifier()\n",
    "    clf.fit(X_train, y_train)\n",
    "\n",
    "    with open(model_output.path, 'wb') as f:\n",
    "        pickle.dump(clf, f)"
   ]
  },
  {
   "cell_type": "markdown",
   "id": "6f755a01",
   "metadata": {},
   "source": [
    "### 📊 Step 3: Evaluate the Model\n",
    "We test how well the model predicts unseen data using `accuracy_score`, which tells us the percentage of correct predictions."
   ]
  },
  {
   "cell_type": "code",
   "execution_count": 4,
   "id": "18cab6f5-b303-4db7-b858-b7224a81f7bf",
   "metadata": {},
   "outputs": [],
   "source": [
    "@dsl.component(base_image=\"quay.io/jupyter/scipy-notebook:lab-4.4.3\")\n",
    "def eval_op(test_data: dsl.Input[dsl.Artifact],\n",
    "            model_input: dsl.Input[dsl.Model]):\n",
    "    import pickle\n",
    "    from sklearn.metrics import accuracy_score\n",
    "\n",
    "    with open(test_data.path, 'rb') as f:\n",
    "        X_test, y_test = pickle.load(f)\n",
    "    with open(model_input.path, 'rb') as f:\n",
    "        clf = pickle.load(f)\n",
    "\n",
    "    acc = accuracy_score(y_test, clf.predict(X_test))\n",
    "    print(f\"Model accuracy: {acc}\")\n"
   ]
  },
  {
   "cell_type": "markdown",
   "id": "305de6e5",
   "metadata": {},
   "source": [
    "### 🔗 Step 5: Define the Pipeline Structure\n",
    "We chain the components together using `@dsl.pipeline`, specifying execution order and data flow."
   ]
  },
  {
   "cell_type": "code",
   "execution_count": 5,
   "id": "45e71040-b091-4c29-b4bd-0f98736bdf11",
   "metadata": {},
   "outputs": [],
   "source": [
    "@dsl.pipeline(name=\"iris-classification-v2\")\n",
    "def iris_pipeline():\n",
    "    preprocess_task = preprocess_op()\n",
    "    train_task = train_op(train_data=preprocess_task.outputs[\"train_path\"])\n",
    "    eval_task = eval_op(\n",
    "        test_data=preprocess_task.outputs[\"test_path\"],\n",
    "        model_input=train_task.outputs[\"model_output\"]\n",
    "    )\n"
   ]
  },
  {
   "cell_type": "markdown",
   "id": "c7594f77",
   "metadata": {},
   "source": [
    "### 🛠️ Step 6: Compile the Pipeline\n",
    "We compile the defined pipeline to a YAML file that Kubeflow can understand and run."
   ]
  },
  {
   "cell_type": "code",
   "execution_count": 6,
   "id": "f1d0e50a-7af4-45ff-aac2-4f8a7029a7c5",
   "metadata": {},
   "outputs": [],
   "source": [
    "from kfp import compiler\n",
    "compiler.Compiler().compile(\n",
    "    pipeline_func=iris_pipeline,\n",
    "    package_path=\"iris_pipeline_v4.yaml\"\n",
    ")"
   ]
  },
  {
   "cell_type": "markdown",
   "id": "3f9b345a",
   "metadata": {},
   "source": [
    "### 🧪 Running a Code Block\n",
    "This block executes part of our pipeline-building logic."
   ]
  },
  {
   "cell_type": "code",
   "execution_count": null,
   "id": "91d8bf17-d15e-4ff3-b59c-ce24b00bc690",
   "metadata": {},
   "outputs": [],
   "source": []
  }
 ],
 "metadata": {
  "kernelspec": {
   "display_name": "Python 3 (ipykernel)",
   "language": "python",
   "name": "python3"
  },
  "language_info": {
   "codemirror_mode": {
    "name": "ipython",
    "version": 3
   },
   "file_extension": ".py",
   "mimetype": "text/x-python",
   "name": "python",
   "nbconvert_exporter": "python",
   "pygments_lexer": "ipython3",
   "version": "3.11.11"
  }
 },
 "nbformat": 4,
 "nbformat_minor": 5
}
